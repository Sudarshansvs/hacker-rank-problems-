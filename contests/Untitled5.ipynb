{
 "cells": [
  {
   "cell_type": "code",
   "execution_count": 1,
   "metadata": {},
   "outputs": [
    {
     "name": "stdout",
     "output_type": "stream",
     "text": [
      "Total price of Mobile is 18000.0\n",
      "Total price of Shoe is 180.0\n"
     ]
    }
   ],
   "source": [
    "def purchase_product(product_type, price):\n",
    "    discount = 10\n",
    "    total_price = price - price * discount / 100\n",
    "    print(\"Total price of \" +product_type+ \" is \"+str(total_price))\n",
    "purchase_product(\"Mobile\", 20000)\n",
    "purchase_product(\"Shoe\", 200)\n"
   ]
  },
  {
   "cell_type": "code",
   "execution_count": 3,
   "metadata": {},
   "outputs": [
    {
     "name": "stdout",
     "output_type": "stream",
     "text": [
      "total price of Mobile is 18000.0\n",
      "total price of Shoe is 180.0\n"
     ]
    }
   ],
   "source": [
    "def purchase_product(product_type,price):\n",
    "    discount=10\n",
    "    total_price= price -price*discount/100\n",
    "    print(\"total price of \"+product_type+\" is \" + str(total_price))\n",
    "purchase_product(\"Mobile\",20000)\n",
    "purchase_product(\"Shoe\",200)"
   ]
  },
  {
   "cell_type": "code",
   "execution_count": 11,
   "metadata": {},
   "outputs": [
    {
     "name": "stdout",
     "output_type": "stream",
     "text": [
      "total price of Mobile is 18000.0\n",
      "total price of Shoe is 200.0\n"
     ]
    }
   ],
   "source": [
    "def purchase_product(product_type,price,mobile_brand=None):\n",
    "    if product_type=='Mobile':\n",
    "        if mobile_brand=='Apple':\n",
    "            discount=10\n",
    "        else:\n",
    "            discount=5\n",
    "        total_price=price*(1-discount/100)\n",
    "    else:\n",
    "        tax=0\n",
    "        total_price=price+price*tax/100\n",
    "    print(\"total price of \"+product_type+\" is \" + str(total_price))\n",
    "purchase_product(\"Mobile\",20000,\"Apple\")\n",
    "purchase_product(\"Shoe\",200)"
   ]
  },
  {
   "cell_type": "code",
   "execution_count": 14,
   "metadata": {},
   "outputs": [
    {
     "name": "stdout",
     "output_type": "stream",
     "text": [
      "total price of Mobile is 18000.0\n",
      "total price of Shoe is 204.0\n"
     ]
    }
   ],
   "source": [
    "def purchase_product(product_type,price,mobile_brand=None,material=None):\n",
    "    if product_type=='Mobile':\n",
    "        if mobile_brand=='Apple':\n",
    "            discount=10\n",
    "        else:\n",
    "            discount=5\n",
    "        total_price=price*(1-discount/100)\n",
    "    else:\n",
    "        if material ==\"leather\":\n",
    "            tax=5\n",
    "        else:\n",
    "            tax=2\n",
    "        \n",
    "        total_price=price+price*tax/100\n",
    "    print(\"total price of \"+product_type+\" is \" + str(total_price))\n",
    "purchase_product(\"Mobile\",20000,\"Apple\",\"leather\")\n",
    "purchase_product(\"Shoe\",200,None,'black Leather')"
   ]
  },
  {
   "cell_type": "code",
   "execution_count": 19,
   "metadata": {},
   "outputs": [],
   "source": [
    "def purchase_mobile(price,brand):\n",
    "    if brand=='Apple':\n",
    "        discount=10\n",
    "    else:\n",
    "        discount=5\n",
    "    total_price=price*(1-discount/100)\n",
    "    print(\"total price of the mobile is \",total_price)"
   ]
  },
  {
   "cell_type": "code",
   "execution_count": 24,
   "metadata": {},
   "outputs": [],
   "source": [
    "def purchase_shoe(price,material):\n",
    "    if (material=='leather'):\n",
    "        tax=5\n",
    "    else:\n",
    "        tax=2\n",
    "    total_price=price*(1+tax/100)\n",
    "    print(\" total price pfo the shoe is \",total_price)"
   ]
  },
  {
   "cell_type": "code",
   "execution_count": 25,
   "metadata": {},
   "outputs": [
    {
     "name": "stdout",
     "output_type": "stream",
     "text": [
      "total price of the mobile is  180000.0\n",
      " total price pfo the shoe is  2142.0\n"
     ]
    }
   ],
   "source": [
    "purchase_mobile(200000,\"Apple\")\n",
    "purchase_shoe(2100,\"not_leather\")"
   ]
  },
  {
   "cell_type": "code",
   "execution_count": 5,
   "metadata": {},
   "outputs": [
    {
     "name": "stdout",
     "output_type": "stream",
     "text": [
      "Total price of mobile : 180000.0\n",
      " Total price of tehs hsoe is  1224.0\n",
      "the amount to be Refunded will be  180000.0\n",
      " teh amount to be refuned will be  1224.0\n"
     ]
    }
   ],
   "source": [
    "total_amount_mobile=0\n",
    "total_amount_shoe=0\n",
    "def purchase_mobile(price,brand):\n",
    "    global total_amount_mobile\n",
    "    if brand=='Apple':\n",
    "        discount=10\n",
    "    else:\n",
    "        discount=5\n",
    "    total_amount_mobile = price*(1-discount/100)\n",
    "    print(\"Total price of mobile :\",total_amount_mobile)\n",
    "def purchase_shoe(price,material=None):\n",
    "    global total_amount_shoe\n",
    "    if material=='leather':\n",
    "        tax=5\n",
    "    else:\n",
    "        tax=2\n",
    "    total_amount_shoe=price*(1+tax/100)\n",
    "    print(\" Total price of tehs hsoe is \",total_amount_shoe)\n",
    "def return_mobile():\n",
    "    print(\"the amount to be Refunded will be \",total_amount_mobile)\n",
    "def return_shoe():\n",
    "    print(\" teh amount to be refuned will be \",total_amount_shoe)\n",
    "purchase_mobile(200000,'Apple')\n",
    "purchase_shoe(1200)\n",
    "return_mobile()\n",
    "return_shoe()"
   ]
  },
  {
   "cell_type": "code",
   "execution_count": 6,
   "metadata": {},
   "outputs": [
    {
     "name": "stdout",
     "output_type": "stream",
     "text": [
      "Total price for Mobile is 18000.0\n",
      "Total price for Shoe is 210.0\n",
      "Refund price for Mobile is  18000.0\n"
     ]
    }
   ],
   "source": [
    "total_price_mobile = 0\n",
    "total_price_shoe = 0\n",
    "def purchase_mobile(price,brand):\n",
    "    global total_price_mobile\n",
    "    if brand == \"Apple\":\n",
    "        discount = 10\n",
    "    else:\n",
    "        discount = 5\n",
    "    total_price_mobile = price - price * discount / 100\n",
    "    print(\"Total price for Mobile is \"+str(total_price_mobile))\n",
    "def purchase_shoe(price,material):\n",
    "    global total_price_shoe\n",
    "    if material == \"leather\":\n",
    "        tax = 5\n",
    "    else:\n",
    "        tax = 2\n",
    "    total_price_shoe = price + price * tax / 100\n",
    "    print(\"Total price for Shoe is \"+str(total_price_shoe))\n",
    "def return_mobile():\n",
    "    print(\"Refund price for Mobile is \",total_price_mobile)\n",
    "def return_shoe():\n",
    "    print(\"Refund price for Shoe is \",total_price_shoe)\n",
    "purchase_mobile(20000,\"Apple\")\n",
    "purchase_shoe(200,\"leather\")\n",
    "return_mobile()\n"
   ]
  },
  {
   "cell_type": "code",
   "execution_count": 9,
   "metadata": {},
   "outputs": [
    {
     "name": "stdout",
     "output_type": "stream",
     "text": [
      "Total price for Mobile is 18000.0\n",
      "Refund price for Mobile is  18000.0\n",
      "Total price for Mobile is 2850.0\n",
      "Total price for Shoe is 210.0\n",
      "Refund price for Mobile is  2850.0\n"
     ]
    }
   ],
   "source": [
    "total_price_mobile = 0\n",
    "total_price_shoe = 0\n",
    "def purchase_mobile(price,brand):\n",
    "    global total_price_mobile\n",
    "    if brand == \"Apple\":\n",
    "        discount = 10\n",
    "    else:\n",
    "        discount = 5\n",
    "    total_price_mobile = price - price * discount / 100\n",
    "    print(\"Total price for Mobile is \"+str(total_price_mobile))\n",
    "def purchase_shoe(price,material):\n",
    "    global total_price_shoe\n",
    "    if material == \"leather\":\n",
    "        tax = 5\n",
    "    else:\n",
    "        tax = 2\n",
    "    total_price_shoe = price + price * tax / 100\n",
    "    print(\"Total price for Shoe is \"+str(total_price_shoe))\n",
    "def return_mobile():\n",
    "    print(\"Refund price for Mobile is \",total_price_mobile)\n",
    "def return_shoe():\n",
    "    print(\"Refund price for Shoe is \",total_price_shoe)\n",
    "purchase_mobile(20000,\"Apple\")\n",
    "return_mobile()\n",
    "purchase_mobile(3000,\"Iphone\")\n",
    "purchase_shoe(200,\"leather\")\n",
    "\n",
    "return_mobile()\n"
   ]
  },
  {
   "cell_type": "code",
   "execution_count": 14,
   "metadata": {},
   "outputs": [
    {
     "name": "stdout",
     "output_type": "stream",
     "text": [
      "Mobile-1\n",
      "Inside constructor\n",
      "Purchasing a mobile\n",
      "This mobile has brand Apple and price 20000\n",
      "Mobile-2\n",
      "Inside constructor\n",
      "Purchasing a mobile\n",
      "This mobile has brand Samsung and price 3000\n"
     ]
    }
   ],
   "source": [
    "class Mobile:\n",
    "    def __init__(self, brand, price):\n",
    "        print(\"Inside constructor\")\n",
    "        self.brand = brand\n",
    "        self.price = price\n",
    "    def purchase(self):\n",
    "        print(\"Purchasing a mobile\")\n",
    "        print(\"This mobile has brand\", self.brand, \"and price\", self.price)\n",
    "print(\"Mobile-1\")\n",
    "mob1=Mobile(\"Apple\", 20000)\n",
    "mob1.purchase()\n",
    "print(\"Mobile-2\")\n",
    "mob1=Mobile(\"Samsung\",3000)\n",
    "mob1.purchase()\n"
   ]
  },
  {
   "cell_type": "code",
   "execution_count": 37,
   "metadata": {},
   "outputs": [],
   "source": [
    "class Vehicle:\n",
    "    def __init__(self,vehicle_id,vehicle_type,vehicle_cost):\n",
    "        self.vehicle_id=vehicle_id\n",
    "        self.vehicle_type=vehicle_type\n",
    "        self.vehicle_cost=vehicle_cost\n",
    "    \n",
    "    def premium_calculation(self):\n",
    "        global vehicle_premium\n",
    "        if self.vehicle_type==2:\n",
    "            purchase_price=self.vehicle_cost*(1+2/100)\n",
    "            print(\"your vehcile id is \",self.vehicle_id,\".price to be paid will be \",purchase_price)\n",
    "        elif self.vehicle_type==4:\n",
    "            purchase_price=self.vehicle_cost*(1+6/100)\n",
    "            print(\"your vehcile id is \",self.vehicle_id,\".price to be paid will be \",purchase_price)\n",
    "        else:\n",
    "            print(\" enter correct no of wheels to proceed\")\n",
    "  \n"
   ]
  },
  {
   "cell_type": "code",
   "execution_count": 38,
   "metadata": {},
   "outputs": [
    {
     "name": "stdout",
     "output_type": "stream",
     "text": [
      "purchase of 2 wheeler\n",
      "your vehcile id is  101 .price to be paid will be  249900.0\n"
     ]
    }
   ],
   "source": [
    "print(\"purchase of 2 wheeler\")\n",
    "two_wheeler_one=Vehicle(101,2,245000)\n",
    "two_wheeler_one.premium_calculation()"
   ]
  },
  {
   "cell_type": "code",
   "execution_count": 46,
   "metadata": {},
   "outputs": [],
   "source": [
    "class Item:\n",
    "    def __init__(self,item_id,price_per_unit,description):\n",
    "        self.item_id=item_id\n",
    "        self.price_per_unit=price_per_unit\n",
    "        self.description=description\n",
    "    \n",
    "    \n",
    "    \n",
    "class Customer:\n",
    "    def __init__(self,customer_name,bill_amount):\n",
    "        self.customer_name=customer_name\n",
    "        self.bill_amount=bill_amount\n",
    "    def purchases():\n",
    "        print(\"now your purchasing...\")\n",
    "        \n",
    "    def pays_bill(self):\n",
    "        total_bill_amount=self.bill_amount*(1-5/100)\n",
    "        print(self.customer_name ,\" should pay the bill amount of rupees \",total_bill_amount)\n",
    "        \n",
    "    \n",
    "    \n",
    "    \n",
    "class Employee:\n",
    "    def __init__(self,emp_name,designation):\n",
    "        self.emp_name=emp_name\n",
    "        self.designation=designation\n",
    "        \n",
    "\n",
    "\n",
    "        \n",
    "        "
   ]
  },
  {
   "cell_type": "code",
   "execution_count": 48,
   "metadata": {},
   "outputs": [
    {
     "name": "stdout",
     "output_type": "stream",
     "text": [
      "now your purchasing...\n",
      "sudarshan  should pay the bill amount of rupees  95.0\n"
     ]
    }
   ],
   "source": [
    "bill=Customer(\"sudarshan\",100)\n",
    "Customer.purchases()\n",
    "bill.pays_bill()"
   ]
  },
  {
   "cell_type": "code",
   "execution_count": 51,
   "metadata": {},
   "outputs": [
    {
     "ename": "AttributeError",
     "evalue": "'Customer' object has no attribute '__wallet_balance'",
     "output_type": "error",
     "traceback": [
      "\u001b[1;31m---------------------------------------------------------------------------\u001b[0m",
      "\u001b[1;31mAttributeError\u001b[0m                            Traceback (most recent call last)",
      "\u001b[1;32m<ipython-input-51-3d73255d70a9>\u001b[0m in \u001b[0;36m<module>\u001b[1;34m()\u001b[0m\n\u001b[0;32m     11\u001b[0m         \u001b[0mprint\u001b[0m\u001b[1;33m(\u001b[0m\u001b[1;34m\"The balance is \"\u001b[0m\u001b[1;33m,\u001b[0m\u001b[0mself\u001b[0m\u001b[1;33m.\u001b[0m\u001b[0m__wallet_balance\u001b[0m\u001b[1;33m)\u001b[0m\u001b[1;33m\u001b[0m\u001b[0m\n\u001b[0;32m     12\u001b[0m \u001b[0mc1\u001b[0m\u001b[1;33m=\u001b[0m\u001b[0mCustomer\u001b[0m\u001b[1;33m(\u001b[0m\u001b[1;36m100\u001b[0m\u001b[1;33m,\u001b[0m \u001b[1;34m\"Gopal\"\u001b[0m\u001b[1;33m,\u001b[0m \u001b[1;36m24\u001b[0m\u001b[1;33m,\u001b[0m \u001b[1;36m1000\u001b[0m\u001b[1;33m)\u001b[0m\u001b[1;33m\u001b[0m\u001b[0m\n\u001b[1;32m---> 13\u001b[1;33m \u001b[0mprint\u001b[0m\u001b[1;33m(\u001b[0m\u001b[0mc1\u001b[0m\u001b[1;33m.\u001b[0m\u001b[0m__wallet_balance\u001b[0m\u001b[1;33m)\u001b[0m\u001b[1;33m\u001b[0m\u001b[0m\n\u001b[0m",
      "\u001b[1;31mAttributeError\u001b[0m: 'Customer' object has no attribute '__wallet_balance'"
     ]
    }
   ],
   "source": [
    "class Customer:\n",
    "    def __init__(self, cust_id, name, age, wallet_balance):\n",
    "        self.cust_id = cust_id\n",
    "        self.name = name\n",
    "        self.age = age\n",
    "        self.__wallet_balance = wallet_balance\n",
    "    def update_balance(self,amount):\n",
    "        if amount < 1000 and amount > 0:\n",
    "            self.__wallet_balance += amount\n",
    "    def show_balance(self):\n",
    "        print(\"The balance is \",self.__wallet_balance)\n",
    "c1=Customer(100, \"Gopal\", 24, 1000)\n",
    "print(c1.__wallet_balance)\n"
   ]
  },
  {
   "cell_type": "code",
   "execution_count": 52,
   "metadata": {},
   "outputs": [
    {
     "name": "stdout",
     "output_type": "stream",
     "text": [
      "The balance is  1000\n"
     ]
    }
   ],
   "source": [
    "class Customer:\n",
    "    def __init__(self, cust_id, name, age, wallet_balance):\n",
    "        self.cust_id = cust_id\n",
    "        self.name = name\n",
    "        self.age = age\n",
    "        self.__wallet_balance = wallet_balance\n",
    "    def update_balance(self, amount):\n",
    "        if amount < 1000 and amount > 0:\n",
    "            self.__wallet_balance += amount\n",
    "    def show_balance(self):\n",
    "        print (\"The balance is \",self.__wallet_balance)\n",
    "c1=Customer(100, \"Gopal\", 24, 1000)\n",
    "c1.__wallet_balance = 10000000000\n",
    "c1.show_balance()\n"
   ]
  },
  {
   "cell_type": "code",
   "execution_count": 55,
   "metadata": {},
   "outputs": [
    {
     "name": "stdout",
     "output_type": "stream",
     "text": [
      "The balance is  10000000000\n"
     ]
    }
   ],
   "source": [
    "class Customer:\n",
    "    def __init__(self, cust_id, name, age, wallet_balance):\n",
    "        self.cust_id = cust_id\n",
    "        self.name = name\n",
    "        self.age = age\n",
    "        self.__wallet_balance = wallet_balance\n",
    "    def update_balance(self, amount):\n",
    "        if amount < 1000 and amount > 0:\n",
    "            self.__wallet_balance += amount\n",
    "    def show_balance(self):\n",
    "        print (\"The balance is \",self.__wallet_balance)\n",
    "c1=Customer(100, \"Gopal\", 24, 1000)\n",
    "c1._Customer__wallet_balance = 10000000000\n",
    "c1.show_balance()\n"
   ]
  },
  {
   "cell_type": "code",
   "execution_count": 57,
   "metadata": {},
   "outputs": [
    {
     "data": {
      "text/plain": [
       "\"' In the Athlete class given below,\\na. make all the attributes private and\\n\\nb. add the necessary accessor and mutator methods\\n\\nRepresent Maria, the runner and make her run.\""
      ]
     },
     "execution_count": 57,
     "metadata": {},
     "output_type": "execute_result"
    }
   ],
   "source": [
    "'''' In the Athlete class given below,\n",
    "a. make all the attributes private and\n",
    "\n",
    "b. add the necessary accessor and mutator methods\n",
    "\n",
    "\n",
    "Represent Maria, the runner and make her run.'''"
   ]
  },
  {
   "cell_type": "code",
   "execution_count": 60,
   "metadata": {},
   "outputs": [],
   "source": [
    "class Athlete:\n",
    "    def __init__(self,name,gender):\n",
    "        self._name=name\n",
    "        self._gender=gender\n",
    "    def set_name(self,_name):\n",
    "        self._name=_name\n",
    "    def get_name(self):\n",
    "        return self._name\n",
    "    def set_gender(self,_gender):\n",
    "        self._gender=_gender\n",
    "    def get_gender(self):\n",
    "        return self._gender\n",
    "    def running(self):\n",
    "        if(self._gender==\"girl\"):\n",
    "            print(\"150mtr running\")\n",
    "        else:\n",
    "            print(\"200mtr running\")\n"
   ]
  },
  {
   "cell_type": "code",
   "execution_count": 64,
   "metadata": {},
   "outputs": [
    {
     "name": "stdout",
     "output_type": "stream",
     "text": [
      "150mtr running\n"
     ]
    }
   ],
   "source": [
    "maria=Athlete(\"Maria\",'girl')\n",
    "maria.running()"
   ]
  },
  {
   "cell_type": "code",
   "execution_count": 66,
   "metadata": {},
   "outputs": [
    {
     "data": {
      "text/plain": [
       "'A university wants to automate their admission process. Students are admitted based on marks scored in a qualifying exam.\\nA student is identified by student id, age and marks in qualifying exam. Data are valid, if:\\n\\n  a. Age is greater than 20\\n\\n  b. Marks is between 0 and 100 (both inclusive)\\n\\nA student qualifies for admission, if\\n\\n  a. Age and marks are valid and\\n\\n  b. Marks is 65 or more'"
      ]
     },
     "execution_count": 66,
     "metadata": {},
     "output_type": "execute_result"
    }
   ],
   "source": [
    "'''A university wants to automate their admission process. Students are admitted based on marks scored in a qualifying exam.\n",
    "A student is identified by student id, age and marks in qualifying exam. Data are valid, if:\n",
    "\n",
    "  a. Age is greater than 20\n",
    "\n",
    "  b. Marks is between 0 and 100 (both inclusive)\n",
    "\n",
    "A student qualifies for admission, if\n",
    "\n",
    "  a. Age and marks are valid and\n",
    "\n",
    "  b. Marks is 65 or more'''"
   ]
  },
  {
   "cell_type": "code",
   "execution_count": 85,
   "metadata": {},
   "outputs": [
    {
     "name": "stdout",
     "output_type": "stream",
     "text": [
      "checking if the student is eligible or not... \n",
      "True\n",
      "False\n",
      "False\n"
     ]
    }
   ],
   "source": [
    "class Student:\n",
    "    def __init__(self,student_id,marks,age):\n",
    "        self._student_id=student_id\n",
    "        self._marks=marks\n",
    "        self._age=age\n",
    "    def set_student_id(self,_student_id):\n",
    "        self._student_id=student_id\n",
    "    def get_student_id(self):\n",
    "        return self._student_id\n",
    "    def set_marks(self,_marks):\n",
    "        self._marks=marks\n",
    "    def get_marks(self):\n",
    "        return self._marks\n",
    "    def set_age(self,_age):\n",
    "        self._age=age\n",
    "    def get_age(self):\n",
    "        return self._age\n",
    "    def validate_marks(self):\n",
    "        if(self._marks>=0 and self._marks<=100):\n",
    "            return True\n",
    "        else:\n",
    "            return False\n",
    "    def validate_age(self):\n",
    "        if(self._age>=20):\n",
    "            return True\n",
    "        else:\n",
    "            return False\n",
    "    def check_qualification(self):\n",
    "        if(self._marks>=65):\n",
    "            return True\n",
    "        else:\n",
    "            return False\n",
    "print(\"checking if the student is eligible or not... \")\n",
    "student1=Student(101,50,18)\n",
    "print(student1.validate_marks())\n",
    "print(student1.validate_age())\n",
    "print(student1.check_qualification())\n"
   ]
  },
  {
   "cell_type": "code",
   "execution_count": null,
   "metadata": {},
   "outputs": [],
   "source": []
  },
  {
   "cell_type": "code",
   "execution_count": null,
   "metadata": {},
   "outputs": [],
   "source": []
  }
 ],
 "metadata": {
  "kernelspec": {
   "display_name": "Python 3",
   "language": "python",
   "name": "python3"
  },
  "language_info": {
   "codemirror_mode": {
    "name": "ipython",
    "version": 3
   },
   "file_extension": ".py",
   "mimetype": "text/x-python",
   "name": "python",
   "nbconvert_exporter": "python",
   "pygments_lexer": "ipython3",
   "version": "3.6.5"
  }
 },
 "nbformat": 4,
 "nbformat_minor": 2
}
