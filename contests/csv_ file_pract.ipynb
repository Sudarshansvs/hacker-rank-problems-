{
 "cells": [
  {
   "cell_type": "code",
   "execution_count": 1,
   "metadata": {},
   "outputs": [],
   "source": [
    "import csv"
   ]
  },
  {
   "cell_type": "code",
   "execution_count": 2,
   "metadata": {},
   "outputs": [
    {
     "name": "stdout",
     "output_type": "stream",
     "text": [
      "['GeographyKey,Customer Name,BirthDate,Mstatus,Gender,EmailAddress,YearlyIncome,Education,Occupation,NumberCarsOwned,Address,AddressLine1,PhoneNumber,DateFirstPurchase']\n",
      "['5,Wright A James ,10/21/2013,Married,Male,james70@ymail.com,70000,Bachelors,Professional,1,8478 Eastgate Ave.,8478 Eastgate Ave.,+7265550143,10/21/2013']\n",
      "['6,Watson I Hailey ,2/8/2013,Married,Female,hailey18@ymail.com,40000,High School,Skilled Manual,2,9658 Guadalupe Dr.,9658 Guadalupe Dr.,+3335550115,2/8/2013']\n",
      "['1,amirez H Bryce ,10/30/2013,Married,Male,bryce6@zmail.com,40000,High School,Skilled Manual,3,387 Glenside Court,387 Glenside Court,+7655550164,10/30/2013']\n",
      "['6,Ross Kaitlyn ,11/23/2013,Married,Female,kaitlyn71@ymail.com,40000,High School,Skilled Manual,2,8391 Olivera,8391 Olivera,+6835550152,11/23/2013']\n",
      "['6,Pillips Jason ,10/6/2013,Married,Male,jason35@ymail.com,40000,High School,Skilled Manual,2,2369 Whitehaven Dr.,2369 Whitehaven Dr.,+8085550157,10/6/2013']\n",
      "['6,Patterson Natalie ,11/5/2013,Married,Female,natalie33@ymail.com,40000,High School,Skilled Manual,2,2777 Spring Hill Drive,2777 Spring Hill Drive,+8585550113,11/5/2013']\n",
      "['6,Murphy S Eduardo ,11/18/2013,Married,Male,eduardo82@ymail.com,40000,High School,Skilled Manual,2,3032 Smoking Tree Court,3032 Smoking Tree Court,+5955550145,11/18/2013']\n",
      "['6,Ward Destiny ,12/13/2013,Married,Female,destiny38@ymail.com,60000,Partial College,Skilled Manual,1,3935 Hawkins Street,3935 Hawkins Street,+1415550193,12/13/2013']\n",
      "['6,Seamans Mike ,9/11/2013,Single,Female,mike5@ymail.com,40000,Bachelors,Professional,1,4678 Cardinal Dr.,4678 Cardinal Dr.,+2105550100,9/11/2013']\n",
      "['1,Romero Albert ,11/5/2013,Single,Male,albert11@zmail.com,40000,Bachelors,Professional,1,45 Linton Terr.,45 Linton Terr.,+4445550178,11/5/2013']\n"
     ]
    }
   ],
   "source": [
    "import csv\n",
    "with open(r'C:\\Users\\venkata.seshabattar\\Desktop\\Customer.csv','r') as csvfile:\n",
    "    reader=csv.reader(csvfile)\n",
    "    for record in reader:\n",
    "        print(record)\n"
   ]
  },
  {
   "cell_type": "code",
   "execution_count": 3,
   "metadata": {},
   "outputs": [
    {
     "name": "stdout",
     "output_type": "stream",
     "text": [
      "OrderedDict([('GeographyKey,Customer Name,BirthDate,Mstatus,Gender,EmailAddress,YearlyIncome,Education,Occupation,NumberCarsOwned,Address,AddressLine1,PhoneNumber,DateFirstPurchase', '5,Wright A James ,10/21/2013,Married,Male,james70@ymail.com,70000,Bachelors,Professional,1,8478 Eastgate Ave.,8478 Eastgate Ave.,+7265550143,10/21/2013')])\n",
      "OrderedDict([('GeographyKey,Customer Name,BirthDate,Mstatus,Gender,EmailAddress,YearlyIncome,Education,Occupation,NumberCarsOwned,Address,AddressLine1,PhoneNumber,DateFirstPurchase', '6,Watson I Hailey ,2/8/2013,Married,Female,hailey18@ymail.com,40000,High School,Skilled Manual,2,9658 Guadalupe Dr.,9658 Guadalupe Dr.,+3335550115,2/8/2013')])\n",
      "OrderedDict([('GeographyKey,Customer Name,BirthDate,Mstatus,Gender,EmailAddress,YearlyIncome,Education,Occupation,NumberCarsOwned,Address,AddressLine1,PhoneNumber,DateFirstPurchase', '1,amirez H Bryce ,10/30/2013,Married,Male,bryce6@zmail.com,40000,High School,Skilled Manual,3,387 Glenside Court,387 Glenside Court,+7655550164,10/30/2013')])\n",
      "OrderedDict([('GeographyKey,Customer Name,BirthDate,Mstatus,Gender,EmailAddress,YearlyIncome,Education,Occupation,NumberCarsOwned,Address,AddressLine1,PhoneNumber,DateFirstPurchase', '6,Ross Kaitlyn ,11/23/2013,Married,Female,kaitlyn71@ymail.com,40000,High School,Skilled Manual,2,8391 Olivera,8391 Olivera,+6835550152,11/23/2013')])\n",
      "OrderedDict([('GeographyKey,Customer Name,BirthDate,Mstatus,Gender,EmailAddress,YearlyIncome,Education,Occupation,NumberCarsOwned,Address,AddressLine1,PhoneNumber,DateFirstPurchase', '6,Pillips Jason ,10/6/2013,Married,Male,jason35@ymail.com,40000,High School,Skilled Manual,2,2369 Whitehaven Dr.,2369 Whitehaven Dr.,+8085550157,10/6/2013')])\n",
      "OrderedDict([('GeographyKey,Customer Name,BirthDate,Mstatus,Gender,EmailAddress,YearlyIncome,Education,Occupation,NumberCarsOwned,Address,AddressLine1,PhoneNumber,DateFirstPurchase', '6,Patterson Natalie ,11/5/2013,Married,Female,natalie33@ymail.com,40000,High School,Skilled Manual,2,2777 Spring Hill Drive,2777 Spring Hill Drive,+8585550113,11/5/2013')])\n",
      "OrderedDict([('GeographyKey,Customer Name,BirthDate,Mstatus,Gender,EmailAddress,YearlyIncome,Education,Occupation,NumberCarsOwned,Address,AddressLine1,PhoneNumber,DateFirstPurchase', '6,Murphy S Eduardo ,11/18/2013,Married,Male,eduardo82@ymail.com,40000,High School,Skilled Manual,2,3032 Smoking Tree Court,3032 Smoking Tree Court,+5955550145,11/18/2013')])\n",
      "OrderedDict([('GeographyKey,Customer Name,BirthDate,Mstatus,Gender,EmailAddress,YearlyIncome,Education,Occupation,NumberCarsOwned,Address,AddressLine1,PhoneNumber,DateFirstPurchase', '6,Ward Destiny ,12/13/2013,Married,Female,destiny38@ymail.com,60000,Partial College,Skilled Manual,1,3935 Hawkins Street,3935 Hawkins Street,+1415550193,12/13/2013')])\n",
      "OrderedDict([('GeographyKey,Customer Name,BirthDate,Mstatus,Gender,EmailAddress,YearlyIncome,Education,Occupation,NumberCarsOwned,Address,AddressLine1,PhoneNumber,DateFirstPurchase', '6,Seamans Mike ,9/11/2013,Single,Female,mike5@ymail.com,40000,Bachelors,Professional,1,4678 Cardinal Dr.,4678 Cardinal Dr.,+2105550100,9/11/2013')])\n",
      "OrderedDict([('GeographyKey,Customer Name,BirthDate,Mstatus,Gender,EmailAddress,YearlyIncome,Education,Occupation,NumberCarsOwned,Address,AddressLine1,PhoneNumber,DateFirstPurchase', '1,Romero Albert ,11/5/2013,Single,Male,albert11@zmail.com,40000,Bachelors,Professional,1,45 Linton Terr.,45 Linton Terr.,+4445550178,11/5/2013')])\n"
     ]
    }
   ],
   "source": [
    "import csv\n",
    "with open(r'C:\\Users\\venkata.seshabattar\\Desktop\\Customer.csv','r') as csvfile:\n",
    "    reader=csv.DictReader(csvfile)\n",
    "    for record in reader:\n",
    "        print(record)\n"
   ]
  },
  {
   "cell_type": "code",
   "execution_count": 4,
   "metadata": {},
   "outputs": [],
   "source": [
    "import csv\n",
    "with open(r'C:\\Users\\venkata.seshabattar\\Desktop\\Employees.csv','w') as csvfile:\n",
    "    writer=csv.writer(csvfile)\n",
    "    writer.writerow(['EmpId','Emp Name','Salary'])\n",
    "    writer.writerow([1,'Ramesh',22001.00])\n",
    "    writer.writerow([2,'Rakesh',26501.00])\n",
    "   \n"
   ]
  },
  {
   "cell_type": "code",
   "execution_count": 5,
   "metadata": {},
   "outputs": [],
   "source": [
    "import csv\n",
    "with open(r'C:\\Users\\venkata.seshabattar\\Desktop\\Employees1.csv','w',newline='') as csvfile:\n",
    "    writer=csv.writer(csvfile)\n",
    "    writer.writerow(['EmpId','Emp Name','Salary'])\n",
    "    writer.writerow([1,'Ramesh',22001.00])\n",
    "    writer.writerow([2,'Rakesh',26501.00])\n"
   ]
  },
  {
   "cell_type": "code",
   "execution_count": 6,
   "metadata": {},
   "outputs": [],
   "source": [
    "import csv\n",
    "with open(r'C:\\Users\\venkata.seshabattar\\Desktop\\Employeees.csv','w',newline='') as csvfile:\n",
    "    fields=['EmpId','Emp Name','Salary']\n",
    "    writer=csv.DictWriter(csvfile,fields)\n",
    "    writer.writeheader()\n",
    "    writer.writerow({'EmpId':1,'Emp Name':'Ramesh','Salary':22001.00})\n",
    "    writer.writerow({'EmpId':2,'Emp Name':'Rakesh','Salary':26501.00})\n",
    "   \n"
   ]
  },
  {
   "cell_type": "code",
   "execution_count": 7,
   "metadata": {},
   "outputs": [],
   "source": [
    "import csv\n",
    "with open(r'C:\\users\\venkata.seshabattar\\desktop\\Persons.csv','w',newline='') as csvfile:\n",
    "    data=csv.writer(csvfile)\n",
    "    data.writerow(['ID','NAME','AGE','SEX'])\n",
    "    data.writerow([1,'James','20','M'])\n",
    "    data.writerow([2,'Katey','10','F'])\n",
    "    data.writerow([3,'Kiran','40','M'])\n",
    "    data.writerow([4,'Radha','19','F'])\n",
    "    \n",
    "\n",
    "\n"
   ]
  },
  {
   "cell_type": "code",
   "execution_count": 8,
   "metadata": {},
   "outputs": [
    {
     "name": "stdout",
     "output_type": "stream",
     "text": [
      "Katey -- 10\n",
      "Radha -- 19\n"
     ]
    }
   ],
   "source": [
    "import csv\n",
    "with open(r'C:\\users\\venkata.seshabattar\\desktop\\Persons.csv','r',newline='') as csvfile:\n",
    "    reader=csv.reader(csvfile)\n",
    "    for header in reader:\n",
    "        if header[3]=='F':\n",
    "            print(header[1],\"--\",header[2])\n",
    "        else:\n",
    "              continue\n",
    "                \n"
   ]
  },
  {
   "cell_type": "code",
   "execution_count": 9,
   "metadata": {},
   "outputs": [
    {
     "name": "stdout",
     "output_type": "stream",
     "text": [
      "['2', 'Katey', '10', 'F']\n"
     ]
    }
   ],
   "source": [
    "import csv\n",
    "with open(r'C:\\users\\venkata.seshabattar\\desktop\\Persons.csv','r',newline='') as csvfile:\n",
    "    reader=csv.reader(csvfile) \n",
    "    for record in reader:\n",
    "        if record[2]!='AGE':\n",
    "            if int(record[2])<18:\n",
    "                print(record)         \n",
    "            \n",
    "#     for minor in reader:\n",
    "#         if int(minor[2])< 18:\n",
    "#             print(minor[1])\n",
    "#         else:\n",
    "#             continue"
   ]
  },
  {
   "cell_type": "code",
   "execution_count": 10,
   "metadata": {},
   "outputs": [],
   "source": [
    "import csv\n",
    "with open(r'C:\\users\\venkata.seshabattar\\desktop\\Person.csv','w',newline='') as csvfile:\n",
    "    wrt=csv.writer(csvfile)\n",
    "    wrt.writerow(['id','name','age'])\n",
    "    wrt.writerow([1,'sunil','10'])\n",
    "    wrt.writerow([2,'susanth','20'])\n",
    "    wrt.writerow([3,'santhosh','23'])\n"
   ]
  },
  {
   "cell_type": "code",
   "execution_count": 11,
   "metadata": {},
   "outputs": [
    {
     "name": "stdout",
     "output_type": "stream",
     "text": [
      "2\n"
     ]
    }
   ],
   "source": [
    "import csv\n",
    "file = open(r'C:\\users\\venkata.seshabattar\\desktop\\Person.csv')\n",
    "csv_file = csv.reader(file)\n",
    "for i in csv_file:\n",
    "    header=i\n",
    "\n",
    "print(len(header[1:]))"
   ]
  },
  {
   "cell_type": "code",
   "execution_count": 12,
   "metadata": {},
   "outputs": [
    {
     "name": "stdout",
     "output_type": "stream",
     "text": [
      "Sheet3\n"
     ]
    }
   ],
   "source": [
    "import openpyxl as xl\n",
    "wb=xl.load_workbook(r'C:\\Users\\venkata.seshabattar\\Desktop\\sample.xlsx')\n",
    "ws=wb.active\n",
    "print(ws.title)"
   ]
  },
  {
   "cell_type": "code",
   "execution_count": 13,
   "metadata": {},
   "outputs": [
    {
     "name": "stdout",
     "output_type": "stream",
     "text": [
      "Student Id Student Name Marks \n",
      "1 Senthil 98 \n",
      "2 Saranya 79 \n",
      "3 Praneeth 43 \n"
     ]
    }
   ],
   "source": [
    "#Python program with excel\n",
    "import openpyxl as xl\n",
    "\n",
    "wb = xl.Workbook()\n",
    "\n",
    "#Creating sheet\n",
    "wb.create_sheet(title='Stud', index=0)\n",
    "ws=wb['Stud']\n",
    "\n",
    "# Creating columns\n",
    "ws['A1']=\"Student Id\"\n",
    "ws['B1']='Student Name'\n",
    "ws['C1']='Marks'\n",
    "ws['D1'] ='Calculated Marks'\n",
    "\n",
    "#Insert values\n",
    "ws.append(['1','Senthil',98])\n",
    "ws.append(['2','Saranya',79])\n",
    "ws.append(['3','Praneeth',43])\n",
    "ws.append(['4','Rishanth',69])\n",
    "ws.append(['5','Kumar',44])\n",
    "ws.append(['6','Sharmista',37])\n",
    "ws.append(['7','Swastika',22])\n",
    "ws.append(['8','Duabkoor',82])\n",
    "\n",
    "\n",
    "\n",
    "\n",
    "#inser values based on other values\n",
    "\n",
    "ws['D2'].value= ws['C2'].value * 0.6\n",
    "ws['D3'].value= ws['C3'].value * 0.6\n",
    "ws['D4'].value= ws['C4'].value * 0.6\n",
    "ws['D5'].value= ws['C5'].value * 0.6\n",
    "ws['D6'].value= ws['C6'].value* 0.6\n",
    "\n",
    "wb.save (r'C:\\Users\\venkata.seshabattar\\Desktop\\student.xlsx')\n",
    "cells=ws['A1':'C4']\n",
    "for row in cells:\n",
    "    for cell in row:\n",
    "        print(cell.value,end=' ')\n",
    "    print()\n"
   ]
  },
  {
   "cell_type": "code",
   "execution_count": null,
   "metadata": {},
   "outputs": [],
   "source": []
  }
 ],
 "metadata": {
  "kernelspec": {
   "display_name": "Python 3",
   "language": "python",
   "name": "python3"
  },
  "language_info": {
   "codemirror_mode": {
    "name": "ipython",
    "version": 3
   },
   "file_extension": ".py",
   "mimetype": "text/x-python",
   "name": "python",
   "nbconvert_exporter": "python",
   "pygments_lexer": "ipython3",
   "version": "3.6.5"
  }
 },
 "nbformat": 4,
 "nbformat_minor": 2
}
