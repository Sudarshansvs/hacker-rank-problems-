{
 "cells": [
  {
   "cell_type": "code",
   "execution_count": 2,
   "metadata": {},
   "outputs": [
    {
     "name": "stdout",
     "output_type": "stream",
     "text": [
      "Passport is invalid\n"
     ]
    }
   ],
   "source": [
    "observe1=\"What's happening!!\"\n",
    "def passport_check(passport_no):\n",
    "    observe4=\"actual copied to formal\"\n",
    "    observe5=\"func. execution starts\"\n",
    "    if(len(passport_no)==8):\n",
    "        if(passport_no[0]>=\"A\" and passport_no[0]<=\"Z\"):\n",
    "            status=\"valid\"\n",
    "        else:\n",
    "            status=\"invalid\"\n",
    "    else:\n",
    "        status= \"invalid\"\n",
    "    observe6=\"func. execution ends\"\n",
    "    return status\n",
    "observe2=\"function with formal arg.\"\n",
    "observe3=\"calling with actual arg.\"\n",
    "passport_status=passport_check(\"M999471\")\n",
    "print(\"Passport is\",passport_status)\n",
    "#observe1,2,3,4,5,6 are temporary variables used to explain this concept\n"
   ]
  },
  {
   "cell_type": "code",
   "execution_count": 4,
   "metadata": {},
   "outputs": [
    {
     "name": "stdout",
     "output_type": "stream",
     "text": [
      "16\n",
      "11\n"
     ]
    }
   ],
   "source": [
    "def compute_square(n):\n",
    "    return n*n\n",
    "def compute_sum(a,b,c,d):\n",
    "    return a+b+c+d\n",
    "print(compute_square(4))\n",
    "print(compute_sum(1,3,5,2))"
   ]
  },
  {
   "cell_type": "code",
   "execution_count": 5,
   "metadata": {},
   "outputs": [
    {
     "name": "stdout",
     "output_type": "stream",
     "text": [
      "*********effect of pass by value*********\n",
      "num_val before function call: 10\n",
      "num_val after function call: 10\n",
      "-----------------------------------------------\n",
      "*********effect of pass by reference*********\n",
      "val_list before function call: [5, 10, 15]\n",
      "val_list after function call: [5, 10, 15, 20]\n"
     ]
    }
   ],
   "source": [
    "def change_number(num):\n",
    "    num+=10\n",
    "def change_list(num_list):\n",
    "    num_list.append(20)\n",
    "num_val=10\n",
    "print(\"*********effect of pass by value*********\")\n",
    "print(\"num_val before function call:\", num_val)\n",
    "change_number(num_val)\n",
    "print(\"num_val after function call:\", num_val)\n",
    "print(\"-----------------------------------------------\")\n",
    "val_list=[5,10,15]\n",
    "print(\"*********effect of pass by reference*********\")\n",
    "print(\"val_list before function call:\", val_list)\n",
    "change_list(val_list)\n",
    "print(\"val_list after function call:\", val_list)\n"
   ]
  },
  {
   "cell_type": "code",
   "execution_count": 6,
   "metadata": {},
   "outputs": [
    {
     "name": "stdout",
     "output_type": "stream",
     "text": [
      "code-1: positional arguments\n",
      "Flight Number: FN789\n",
      "Seating Capacity: 200\n",
      "-------------------------------------------------\n",
      "code-2: keyword arguments\n",
      "Flight Number: FN789\n",
      "Seating Capacity: 250\n",
      "-------------------------------------------------\n",
      "code-3: default arguments\n",
      "Flight Number: FN789\n",
      "Flight Make: Eagle\n",
      "Seating Capacity: 150\n",
      "-------------------------------------------------\n",
      "code-4: variable argument count\n",
      "Passenger name: Jack\n",
      "Total baggage weight in kg: 25\n"
     ]
    }
   ],
   "source": [
    "def display1(flight_number, seating_capacity):\n",
    "    print(\"Flight Number:\", flight_number)\n",
    "    print(\"Seating Capacity:\", seating_capacity)\n",
    "print(\"code-1: positional arguments\")\n",
    "display1(\"FN789\",200)\n",
    "#Uncomment and execute the below function call statement and observe the output\n",
    "#display1(300,\"FN123\")\n",
    "def display2(flight_number, seating_capacity):\n",
    "    print(\"Flight Number:\", flight_number)\n",
    "    print(\"Seating Capacity:\", seating_capacity)\n",
    "print(\"-------------------------------------------------\")\n",
    "print(\"code-2: keyword arguments\")\n",
    "display2(seating_capacity=250, flight_number=\"FN789\")\n",
    "def display3(flight_number, flight_make=\"Boeing\", seating_capacity=150):\n",
    "    print(\"Flight Number:\", flight_number)\n",
    "    print(\"Flight Make:\", flight_make)\n",
    "    print(\"Seating Capacity:\", seating_capacity)\n",
    "print(\"-------------------------------------------------\")\n",
    "print(\"code-3: default arguments\")\n",
    "display3(\"FN789\",\"Eagle\")\n",
    "#Uncomment and execute the below function call statements one by one and observe the output\n",
    "#display3(\"FN234\")\n",
    "#display3(\"FN678\",\"Qantas\",200)\n",
    "def display4(passenger_name, *baggage_tuple):\n",
    "    print(\"Passenger name:\",passenger_name)\n",
    "    total_wt=0\n",
    "    for baggage_wt in baggage_tuple:\n",
    "        total_wt+=baggage_wt\n",
    "    print(\"Total baggage weight in kg:\", total_wt)\n",
    "print(\"-------------------------------------------------\")\n",
    "print(\"code-4: variable argument count\")\n",
    "display4(\"Jack\",12,8,5)\n",
    "#Uncomment and execute the below function call statements one by one and observe the output\n",
    "#display4(\"Chan\",20,12)\n",
    "#display4(\"Henry\",23)\n"
   ]
  },
  {
   "cell_type": "code",
   "execution_count": 7,
   "metadata": {},
   "outputs": [
    {
     "name": "stdout",
     "output_type": "stream",
     "text": [
      "code-1: positional arguments\n",
      "Flight Number: FN789\n",
      "Seating Capacity: 200\n",
      "Flight Number: 300\n",
      "Seating Capacity: FN123\n"
     ]
    }
   ],
   "source": [
    "def display1(flight_number, seating_capacity):\n",
    "    print(\"Flight Number:\", flight_number)\n",
    "    print(\"Seating Capacity:\", seating_capacity)\n",
    "print(\"code-1: positional arguments\")\n",
    "display1(\"FN789\",200)\n",
    "#Uncomment and execute the below function call statement and observe the output\n",
    "display1(300,\"FN123\")"
   ]
  },
  {
   "cell_type": "code",
   "execution_count": 8,
   "metadata": {},
   "outputs": [
    {
     "name": "stdout",
     "output_type": "stream",
     "text": [
      "This airline allows baggage limit till 30 kgs\n",
      "Pay the extra baggage charge of 500 rupees\n",
      "This airline now allows baggage limit till 45 kgs\n",
      "Pay the extra baggage charge of 500 rupees\n"
     ]
    }
   ],
   "source": [
    "wt_limit=30\n",
    "def baggage_check(baggage_wt):\n",
    "    extra_baggage_charge=0\n",
    "    if not(baggage_wt>=0 and baggage_wt<=wt_limit):\n",
    "        extra_baggage=baggage_wt-wt_limit\n",
    "        extra_baggage_charge=extra_baggage*100\n",
    "    return extra_baggage_charge\n",
    "def update_baggage_limit(new_wt_limit):\n",
    "    wt_limit=new_wt_limit\n",
    "    print(\"This airline now allows baggage limit till\",wt_limit,\"kgs\")\n",
    "print(\"This airline allows baggage limit till\",wt_limit,\"kgs\")\n",
    "print(\"Pay the extra baggage charge of\",baggage_check(35),\"rupees\")\n",
    "update_baggage_limit(45)\n",
    "print(\"Pay the extra baggage charge of\",baggage_check(35),\"rupees\")\n"
   ]
  },
  {
   "cell_type": "code",
   "execution_count": 11,
   "metadata": {},
   "outputs": [
    {
     "name": "stdout",
     "output_type": "stream",
     "text": [
      "Numbers are amicable number\n"
     ]
    }
   ],
   "source": [
    "def amicable_or(x, y):\n",
    "    fact1, fact2 = [], []\n",
    "    for j in range(1, x):\n",
    "        if x % j == 0:\n",
    "            fact1.append(j)\n",
    "    for j in range(1, y):\n",
    "        if y % j == 0:\n",
    "            fact2.append(j)\n",
    "    if sum(fact1) == y and sum(fact2) == x:\n",
    "        return True\n",
    "    else:\n",
    "        return False\n",
    "a, b = 220, 284\n",
    "if amicable_or(a, b):\n",
    "    print(\"Numbers are amicable number\")\n",
    "else:\n",
    "    print(\"Numbers are Not amicable Number\")"
   ]
  },
  {
   "cell_type": "code",
   "execution_count": 12,
   "metadata": {},
   "outputs": [
    {
     "name": "stdout",
     "output_type": "stream",
     "text": [
      "[0, 0, 10, 20, 30]\n"
     ]
    }
   ],
   "source": [
    "my_list=[0]*5\n",
    "for index in range(1,5):\n",
    "\tmy_list[index]=(index-1)*10\n",
    "print(my_list)\n",
    " \n",
    "    "
   ]
  },
  {
   "cell_type": "code",
   "execution_count": null,
   "metadata": {},
   "outputs": [],
   "source": []
  }
 ],
 "metadata": {
  "kernelspec": {
   "display_name": "Python 3",
   "language": "python",
   "name": "python3"
  },
  "language_info": {
   "codemirror_mode": {
    "name": "ipython",
    "version": 3
   },
   "file_extension": ".py",
   "mimetype": "text/x-python",
   "name": "python",
   "nbconvert_exporter": "python",
   "pygments_lexer": "ipython3",
   "version": "3.6.5"
  }
 },
 "nbformat": 4,
 "nbformat_minor": 2
}
