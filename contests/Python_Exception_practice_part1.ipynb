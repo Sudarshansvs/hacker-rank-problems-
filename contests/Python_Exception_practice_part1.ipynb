{
 "cells": [
  {
   "cell_type": "code",
   "execution_count": 1,
   "metadata": {},
   "outputs": [
    {
     "name": "stdout",
     "output_type": "stream",
     "text": [
      "Please enter a card number101\n",
      "Something went wrong. \n",
      "Please enter a card number101\n",
      "Something went wrong. \n",
      "Please enter a card number102\n"
     ]
    }
   ],
   "source": [
    "class CreditCard:\n",
    "    def __init__(self, card_no, balance):\n",
    "        self.card_no = card_no\n",
    "        self.balance = balance\n",
    "class Customer:\n",
    "    def __init__(self,cards):\n",
    "        self.cards=cards\n",
    "    def purchase_item(self, price, card_no):\n",
    "        if price < 0:\n",
    "            raise Exception()\n",
    "        if card_no not in self.cards:\n",
    "            raise Exception()\n",
    "        if price>self.cards[card_no].balance:\n",
    "            raise Exception()\n",
    "card1=CreditCard(101,800)\n",
    "card2=CreditCard(102,2000)\n",
    "cards={card1.card_no:card1,card2.card_no:card2}\n",
    "c=Customer(cards)\n",
    "while(True):\n",
    "    card_no=int(input(\"Please enter a card number\"))\n",
    "    try:\n",
    "        c.purchase_item(1200,card_no)\n",
    "        break\n",
    "    except Exception as e:\n",
    "        print(\"Something went wrong. \"+str(e))\n"
   ]
  },
  {
   "cell_type": "code",
   "execution_count": 4,
   "metadata": {},
   "outputs": [
    {
     "name": "stdout",
     "output_type": "stream",
     "text": [
      "Please enter a card number101\n",
      "Card has insufficient balance\n",
      "Please enter a card number102\n"
     ]
    }
   ],
   "source": [
    "class InvalidPrice(Exception):\n",
    "    pass\n",
    "class WrongCard(Exception):\n",
    "    pass\n",
    "class CreditCard:\n",
    "    def __init__(self, card_no, balance):\n",
    "        self.card_no=card_no\n",
    "        self.balance=balance\n",
    "class Customer:\n",
    "    def __init__(self,cards):\n",
    "        self.cards=cards\n",
    "    def purchase_item(self,price,card_no):\n",
    "        if price < 0:\n",
    "            raise InvalidPrice(\"The price is wrong\")\n",
    "        if card_no not in self.cards:\n",
    "            raise WrongCard(\"Card is invalid\")\n",
    "        if price>self.cards[card_no].balance:\n",
    "            raise WrongCard(\"Card has insufficient balance\")\n",
    "card1=CreditCard(101,800)\n",
    "card2=CreditCard(102,2000)\n",
    "cards={card1.card_no:card1,card2.card_no:card2}\n",
    "c=Customer(cards)\n",
    "while(True):\n",
    "    card_no=int(input(\"Please enter a card number\"))\n",
    "    try:\n",
    "        c.purchase_item(1200,card_no)\n",
    "        break\n",
    "    except InvalidPrice as e:\n",
    "        print(str(e))\n",
    "        break\n",
    "    except WrongCard as e:\n",
    "        print(str(e))\n",
    "        continue\n",
    "    except Exception as e:\n",
    "        print(\"Something went wrong. \"+str(e))\n"
   ]
  },
  {
   "cell_type": "code",
   "execution_count": 6,
   "metadata": {},
   "outputs": [
    {
     "name": "stdout",
     "output_type": "stream",
     "text": [
      "The given  username 1abc is invalid\n"
     ]
    }
   ],
   "source": [
    "class InvalidUsername(Exception):\n",
    "    def __init__(self,username):\n",
    "        msg='The given  username '+username+' is invalid'\n",
    "        super().__init__(msg)\n",
    "try:\n",
    "    username='1abc'\n",
    "    if not username[0].isalpha():\n",
    "        raise InvalidUsername(username)\n",
    "except InvalidUsername as e:\n",
    "    print(e)\n"
   ]
  },
  {
   "cell_type": "code",
   "execution_count": 3,
   "metadata": {},
   "outputs": [],
   "source": [
    "class InvalidMechanicIdException(Exception):\n",
    "    def __init__(self):\n",
    "        msg = \"Mechanicid is Invalid please recheck\"\n",
    "        super().__init__(msg)\n",
    "\n",
    "class InvalidSpecialization(Exception):\n",
    "    def __init__(self):\n",
    "        msg = (\"INVALID SPECIALIZATION please come back after rechecking\")\n",
    "        super().__init__(msg)"
   ]
  },
  {
   "cell_type": "code",
   "execution_count": 4,
   "metadata": {},
   "outputs": [],
   "source": [
    "class Mechanic:\n",
    "    def __init__(self,mechanic_id,specialization,vehicle_count):\n",
    "        self.__mechanic_id=mechanic_id\n",
    "        self.__specialization=specialization\n",
    "        self.__vehicle_count=vehicle_count\n",
    "    def get_mechanic_id(self):\n",
    "        return self.__mechanic_id\n",
    "    def get_specialization(self):\n",
    "        return __specialization\n",
    "    def get_vehicle_count(self):\n",
    "        return __vehicle_count\n",
    "    def set_mechanic_id(self,value):\n",
    "        self.__mechanic_id=value\n",
    "    def set_specialization(self,value):\n",
    "        self.__specialization=value\n",
    "    def set_vehicle_count(self,value):\n",
    "        self.__vcount+=1\n",
    "        M101=Mechanic(101,1,'TW')\n",
    "        M102=Mechanic(102,0,'FW')\n",
    "        M103=Mechanic(103,4,'TW')\n",
    "        M104=Mechanic(104,2,'FW')\n",
    "        M105=Mechanic(105,1,'FW')\n",
    "        M = [M105,M104,M103,M102,M101]\n"
   ]
  },
  {
   "cell_type": "code",
   "execution_count": 7,
   "metadata": {},
   "outputs": [
    {
     "ename": "SyntaxError",
     "evalue": "unexpected EOF while parsing (<ipython-input-7-b51d6231adfd>, line 14)",
     "output_type": "error",
     "traceback": [
      "\u001b[1;36m  File \u001b[1;32m\"<ipython-input-7-b51d6231adfd>\"\u001b[1;36m, line \u001b[1;32m14\u001b[0m\n\u001b[1;33m    \u001b[0m\n\u001b[1;37m    ^\u001b[0m\n\u001b[1;31mSyntaxError\u001b[0m\u001b[1;31m:\u001b[0m unexpected EOF while parsing\n"
     ]
    }
   ],
   "source": [
    "class VehicleService:\n",
    "    def __init__(self,mechanic_list):\n",
    "        self.__mechanic_list=mechanic_list\n",
    "    def assign_vehicle_for_service(self,mechanic_id,vehicle_type):\n",
    "        try:\n",
    "            for i in range(len(self.__mechanic_list)):\n",
    "                if(self.__mechanic_list[i].get_mechanic_id()==mechanic_id):\n",
    "                    if(self.__mechanic_list[i].get_specialization()==vehicle_type):\n",
    "                        self.__mechanic_list[i].set_vehicle_count()\n",
    "                        break\n",
    "                else:\n",
    "                    raise InvalidMechanicIdException\n",
    "                    \n",
    "        "
   ]
  },
  {
   "cell_type": "code",
   "execution_count": null,
   "metadata": {},
   "outputs": [],
   "source": []
  }
 ],
 "metadata": {
  "kernelspec": {
   "display_name": "Python 3",
   "language": "python",
   "name": "python3"
  },
  "language_info": {
   "codemirror_mode": {
    "name": "ipython",
    "version": 3
   },
   "file_extension": ".py",
   "mimetype": "text/x-python",
   "name": "python",
   "nbconvert_exporter": "python",
   "pygments_lexer": "ipython3",
   "version": "3.6.5"
  }
 },
 "nbformat": 4,
 "nbformat_minor": 2
}
