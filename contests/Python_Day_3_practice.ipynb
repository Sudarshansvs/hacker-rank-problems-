{
 "cells": [
  {
   "cell_type": "code",
   "execution_count": 1,
   "metadata": {},
   "outputs": [
    {
     "name": "stdout",
     "output_type": "stream",
     "text": [
      "DC2\n",
      "DM3\n",
      "DP4\n"
     ]
    }
   ],
   "source": [
    "class Ticket:\n",
    "    counter=0\n",
    "    destination_list=[\"mumbai\",\"chennai\",\"pune\"]\n",
    "    def __init__(self,passenger_name,source,destination):\n",
    "        self.__passenger_name=passenger_name\n",
    "        self.__source=source\n",
    "        self.__destination=destination\n",
    "        self.__ticket_id = None\n",
    "        \n",
    "    def get_passenger_name(self):\n",
    "        return self.__passenger_name\n",
    "    \n",
    "    def get_source(self):\n",
    "        return self.__source\n",
    "    def get_destination(self):\n",
    "        return self.__destination\n",
    "   \n",
    "    def validate_source_destination(self):\n",
    "        if self.get_source() ==\"Delhi\":\n",
    "            if self.get_destination().casefold() in Ticket.destination_list:\n",
    "                return True\n",
    "            else:\n",
    "                return False\n",
    "        else:\n",
    "            return False\n",
    "    def generate_ticket(self):\n",
    "        Ticket.counter+=1\n",
    "        if self.validate_source_destination()==True:\n",
    "            \n",
    "            self.__ticket_id=self.get_source()[0]+self.get_destination()[0]+str(Ticket.counter+1)\n",
    "            return self.__ticket_id\n",
    "            \n",
    "        else:\n",
    "            False\n",
    "tic1 = Ticket(\"Raghav\", \"Delhi\", \"Chennai\")\n",
    "print(tic1.generate_ticket())\n",
    "tic2 = Ticket(\"Raghav\", \"Delhi\", \"Mumbai\")\n",
    "print(tic2.generate_ticket())\n",
    "tic3 = Ticket(\"Raghav\", \"Delhi\", \"Pune\")\n",
    "print(tic3.generate_ticket())\n",
    "\n",
    "            "
   ]
  },
  {
   "cell_type": "markdown",
   "metadata": {},
   "source": [
    "Freight Pvt. Ltd, a cargo company, forwards cargos/freights between its customers.\n",
    "Freight charges are applied based on weight and distance of the shipment.\n",
    "Write a python program to implement the class diagram given below."
   ]
  },
  {
   "cell_type": "markdown",
   "metadata": {},
   "source": [
    "Method description:\n",
    "\n",
    "Initialize counter variable to 198 in Freight class\n",
    "\n",
    "All validate methods should return true, if validation succeeds. Else it should return false\n",
    "\n",
    "validate_customer_id(): Customer id should be 6 digits and should begin with digit 1\n",
    "\n",
    "validate_weight(): Weight should be a multiple of 5\n",
    "\n",
    "validate_distance(): Distance should be between 500kms and 5000kms (both inclusive)\n",
    "\n",
    "forward_cargo()\n",
    "\n",
    "Validate from_customer.customer_id, recipient_customer.customer_id, distance and weight of the freight\n",
    "\n",
    "If valid,\n",
    "\n",
    "auto-generate freight_id starting from 200 and initialize it. freight_id should be even\n",
    "\n",
    "calculate freight_charge based on weight (Rs.150/kg) and distance (Rs.60/km)\n",
    "\n",
    "Else, set freight_charge to 0"
   ]
  },
  {
   "cell_type": "code",
   "execution_count": 2,
   "metadata": {},
   "outputs": [],
   "source": [
    "class Customer:\n",
    "    def __init__(self,customer_id,customer_name,address):\n",
    "        self.__customer_id=customer_id\n",
    "        self.__customer_name=customer_name\n",
    "        self.__address=address\n",
    "    def validate_customer_id(self):\n",
    "        if len(self.__customer_id)==6 and self.__customer_id[0]==1:\n",
    "            return True\n",
    "        else:\n",
    "            False\n",
    "    def get_customer_id(self):\n",
    "        return self.__customer_id\n",
    "    def get_customer_name(self):\n",
    "        return self.__customer_name\n",
    "    def get_address(self):\n",
    "        return self.__address\n"
   ]
  },
  {
   "cell_type": "code",
   "execution_count": 3,
   "metadata": {},
   "outputs": [],
   "source": [
    "class Freight:\n",
    "    counter=198\n",
    "    \n",
    "    \n",
    "    def __init__(self,recipient_customer,from_customer,weight,distance):\n",
    "        self.__recipient_customer=recipient_customer\n",
    "        self.__from_customer=from_customer\n",
    "        self.__weight=weight\n",
    "        self.__distance=distance\n",
    "        self.__frieght_id=None\n",
    "        self.__frieght_change=None\n",
    "        \n",
    "        \n",
    "    def validate_weight(self):\n",
    "        if self.__weight%5==0:\n",
    "            return True\n",
    "        else:\n",
    "            return False\n",
    "        \n",
    "    def validate_distance(self):\n",
    "        if self.__distance>=500 and self.__distance<=5000:\n",
    "            return True\n",
    "        else:\n",
    "            return False\n",
    "        \n",
    "    def forward_cargo(self):\n",
    "        if self.get_recipient_customer().validate_customer_id() and self.get_from_customer.validate_customer_id():\n",
    "            if self.validate_weight() and self.validate_distance():\n",
    "                self.__freight_charge =150* self.get_weight + 60* self.get_distance\n",
    "                Freight.__counter+=2\n",
    "                self.__freight_id = Freight.counter\n",
    "                self.__freight_charge = self.get_weight() * self.get_distance() / 100\n",
    "                return self.__freight_charge\n",
    "            else:\n",
    "                self.get_freight_charge=0\n",
    "        else:\n",
    "            return False\n",
    "            \n",
    "        \n",
    "    def get_freight_change(self):\n",
    "        return self.__freight_change\n",
    "    \n",
    "    def get_freight_id(self):\n",
    "        return self.__freight_id\n",
    "    def get_from_customer(self):\n",
    "        return self.__from_customer\n",
    "    def get_weight(self):\n",
    "        return self.__weight\n",
    "    def get_distance(self):\n",
    "        return self.__distance\n",
    "    \n",
    "    def get_recipient_customer(self):\n",
    "        return self.__recipient_customer"
   ]
  },
  {
   "cell_type": "code",
   "execution_count": 4,
   "metadata": {},
   "outputs": [
    {
     "name": "stdout",
     "output_type": "stream",
     "text": [
      "Recipient Details :\n",
      "Sai\n",
      "112345\n",
      "Sdpt\n"
     ]
    }
   ],
   "source": [
    "cust1 = Customer(\"123456\", \"Raghav\", \"Hyd\")\n",
    "cust2 = Customer(\"112345\", \"Sai\", \"Sdpt\")\n",
    "\n",
    "fri1 = Freight(cust2, cust1, 200, 600)\n",
    "\n",
    "fri2 = Freight(cust2, cust1, 200, 600)\n",
    "print(\"Recipient Details :\")\n",
    "print(cust2.get_customer_name())\n",
    "print(cust2.get_customer_id())\n",
    "print(cust2.get_address())"
   ]
  },
  {
   "cell_type": "markdown",
   "metadata": {},
   "source": [
    "Coorg Fruit Farm is a retail chain which sells fruits grown in their orchards in Coorg, India.\n",
    "They want to keep track of customers who buy fruits from them and also the billing process."
   ]
  },
  {
   "cell_type": "code",
   "execution_count": 5,
   "metadata": {},
   "outputs": [],
   "source": [
    "class Customer:\n",
    "    def __init__(self,customer_name,cust_type):\n",
    "        self.__customer_name=customer_name\n",
    "        self.__cust_type=cust_type\n",
    "    def get_customer_name(self):\n",
    "        return self.__customer_name\n",
    "    def get_cust_type(self):\n",
    "        return self.__cust_type\n"
   ]
  },
  {
   "cell_type": "code",
   "execution_count": 6,
   "metadata": {},
   "outputs": [],
   "source": [
    "class Purchase:\n",
    "    __counter=101\n",
    "    def __init__(self,customer,fruit_name,quantity):\n",
    "        self.__customer=customer\n",
    "        self.__quantity=quantity\n",
    "        self.__fruit_name=fruit_name\n",
    "        self.__purchase_id=None\n",
    "    def get_purchase_id(self):\n",
    "        return self.__purchase_id\n",
    "    def get_customer(self):\n",
    "        return self.__customer\n",
    "    def get_quantity(self):\n",
    "        return self.__quantity\n",
    "    def set_purchase_id(self,purchase_id):\n",
    "        self.__purchase_id=purchase_id\n",
    "    def calulate_price(self):\n",
    "        if FruitInfo.get_fruit_price(self.__fruit_name) != -1:\n",
    "            price_kg=FruitInfo.get_fruit_price(self.__fruit_name)\n",
    "            if price_kg == max(FruitInfo.get_fruit_price_list()):\n",
    "                if self.get_quantity()>1:\n",
    "                    if Customer().get_customer_type()==\"WholeSale\":\n",
    "                        discount1=2\n",
    "                        x=price_kg*self.get_quantity()-price_kg*discount1/100\n",
    "                        x=x-x*10/100\n",
    "#                         s=\"P\"+str(__counter+1)\n",
    "#                         print(\"your purchase id is \",set_purchase_id(s))\n",
    "                        return x\n",
    "                else:\n",
    "                    x=price_kg*self.get_quantity()-price_kg*10/100\n",
    "#                     s=\"P\"+str(__counter+1)\n",
    "#                     print(\"your purchase id is \",set_purchase_id(s))\n",
    "                    return x\n",
    "                        \n",
    "            elif price_kg is min(FruitInfo.get_fruit_price_list()):\n",
    "                if self.get_quantity()>5:\n",
    "                    if Customer().get_customer_type()==\"WholeSale\":\n",
    "                        discount=2\n",
    "                        x=price_kg*self.get_quantity()-price_kg*discount/100\n",
    "                        x=x-x*10/100\n",
    "#                         s=\"P\"+str(__counter+1)\n",
    "#                         print(\"your purchase id is \",set_purchase_id(s))\n",
    "                        return x\n",
    "                else:\n",
    "                    x=price_kg*self.get_quantity()-price_kg*10/100\n",
    "#                     s=\"P\"+str(__counter+1)\n",
    "#                     print(\"your purchase id is \",set_purchase_id(s))\n",
    "                    return x\n",
    "            else:\n",
    "                x=price_kg*self.get_quantity()\n",
    "#                 s=\"P\"+str(__counter)\n",
    "#                 print(\"your purchase id is \",set_purchase_id(s))\n",
    "                return x\n",
    "                \n",
    "        else:\n",
    "            return -1\n",
    "        \n",
    "    "
   ]
  },
  {
   "cell_type": "code",
   "execution_count": 7,
   "metadata": {},
   "outputs": [],
   "source": [
    "class FruitInfo:\n",
    "    __fruit_name_list=[\"Apple\",\"Guava\",\"Orange\",\"Grape\",\"Sweet Lime\"]\n",
    "    __fruit_price_list=[200,80,70,110,60]\n",
    "    \n",
    "    @staticmethod\n",
    "    def get_fruit_price(fruit_name):\n",
    "        for i in range(len(FruitInfo.__fruit_name_list)):\n",
    "            if FruitInfo.__fruit_name_list[i]==fruit_name:\n",
    "                return FruitInfo.__fruit_price_list[i] \n",
    "            else:\n",
    "                continue\n",
    "        \n",
    "    @staticmethod\n",
    "    def get_fruit_name_list():\n",
    "        return FruitInfo.__fruit_name_list\n",
    "    @staticmethod\n",
    "    def get_fruit_price_list():\n",
    "        return FruitInfo.__fruit_price_list\n",
    "    "
   ]
  },
  {
   "cell_type": "code",
   "execution_count": 8,
   "metadata": {},
   "outputs": [
    {
     "name": "stdout",
     "output_type": "stream",
     "text": [
      "80\n",
      "800\n"
     ]
    }
   ],
   "source": [
    "print(FruitInfo.get_fruit_price(\"Guava\"))\n",
    "cust1=Customer(\"sudarshan\",\"WholeSale\")\n",
    "p1=Purchase(cust1,\"Guava\",10)\n",
    "print(p1.calulate_price())"
   ]
  },
  {
   "cell_type": "markdown",
   "metadata": {},
   "source": [
    "1. An apparel shop wants to manage the items which it sells.\n",
    "Write a python program to implement the class diagram given below. "
   ]
  },
  {
   "cell_type": "markdown",
   "metadata": {},
   "source": [
    "Class Description:\n",
    "Apparel class:\n",
    "\n",
    "Initialize static variable counter to 100\n",
    "\n",
    "In the constructor, auto-generate item_id starting from 101 prefixed by \"C\" for cotton apparels and \"S\" for silk apparels. Example – C101, S102, S103, 104 etc\n",
    "\n",
    "calculate_price(): Add 5% service tax on the price of the apparel and update attribute, price with the new value\n",
    "\n",
    "Cotton class:\n",
    "\n",
    "While invoking parent constructor from child constructor, pass \"Cotton\" as item_type\n",
    "\n",
    "calculate_price(): Update attribute, price of Apparel class based on rules given below\n",
    "\n",
    "Add service tax on price by invoking appropriate method of Apparel class\n",
    "\n",
    "Apply discount on price\n",
    "\n",
    "Add 5% VAT on final price\n",
    "\n",
    "Silk class:"
   ]
  },
  {
   "cell_type": "code",
   "execution_count": 16,
   "metadata": {},
   "outputs": [],
   "source": [
    "class Apparel:\n",
    "    counter=100\n",
    "    def __init__(self,price,item_type):\n",
    "        self.__price=price\n",
    "        self.__item_type=item_type\n",
    "        if self.__item_type== 'Cotton':\n",
    "            Apparel.counter+1\n",
    "            self.__item_id=\"C\"+ str(Apparel.counter)\n",
    "        elif self.__item_type== 'Silk':\n",
    "            self.__item_id=\"S\"+ str(Apparel.counter)\n",
    "    def calculate_price(self):\n",
    "        self.__price=self.__price*(1+5/100)\n",
    "        return self.__price\n",
    "    \n",
    "    def get_item_id(self):\n",
    "        return self.__item_id\n",
    "    def get_price(self):\n",
    "        return self.__price\n",
    "    def get_item_type(self):\n",
    "        return self.__item_type\n",
    "    def set_price(self,price):\n",
    "        self.__price=price\n",
    "    "
   ]
  },
  {
   "cell_type": "code",
   "execution_count": 17,
   "metadata": {},
   "outputs": [],
   "source": [
    "class Cotton(Apparel):\n",
    "    def __init__(self,price,discount):\n",
    "        super().__init__(price, 'cotton')\n",
    "        self.__price = price\n",
    "        self.__discount = discount\n",
    "    def calculate_price(self):\n",
    "        return self.get_price()*1.05*(1-self.get_discount()/100)\n",
    "    def get_discount(self):\n",
    "        return self.__discount"
   ]
  },
  {
   "cell_type": "code",
   "execution_count": 18,
   "metadata": {},
   "outputs": [],
   "source": [
    "class Silk(Apparel):\n",
    "    def __init__(self,price):\n",
    "        super().__init__(price,'Silk')\n",
    "        self.__price = price\n",
    "        self.__points = 0\n",
    "    def calculate_price(self):\n",
    "        print(self.get_price())\n",
    "        return (self.get_price()*1.05* 1.1)\n",
    "    \n",
    "    def get_points(self):\n",
    "        point=self.calculate_price()\n",
    "        if point>10000:\n",
    "            self.__points=10\n",
    "        else:\n",
    "            self.__points=3\n",
    "        return self.__points\n"
   ]
  },
  {
   "cell_type": "code",
   "execution_count": 19,
   "metadata": {},
   "outputs": [
    {
     "name": "stdout",
     "output_type": "stream",
     "text": [
      "C100\n",
      "420.0\n",
      "C100\n",
      "10\n",
      "472.5\n"
     ]
    }
   ],
   "source": [
    "m1 = Apparel(400,'Cotton')\n",
    "m2 = Apparel(500,'Cotton')\n",
    "print(m1.get_item_id())\n",
    "print(m1.calculate_price())\n",
    "print(m2.get_item_id())\n",
    "m3 = Cotton(500,10)\n",
    "print(m3.get_discount())\n",
    "print(m3.calculate_price())\n",
    "m4 = Silk(750)"
   ]
  },
  {
   "cell_type": "code",
   "execution_count": null,
   "metadata": {},
   "outputs": [],
   "source": []
  }
 ],
 "metadata": {
  "kernelspec": {
   "display_name": "Python 3",
   "language": "python",
   "name": "python3"
  },
  "language_info": {
   "codemirror_mode": {
    "name": "ipython",
    "version": 3
   },
   "file_extension": ".py",
   "mimetype": "text/x-python",
   "name": "python",
   "nbconvert_exporter": "python",
   "pygments_lexer": "ipython3",
   "version": "3.6.5"
  }
 },
 "nbformat": 4,
 "nbformat_minor": 2
}
