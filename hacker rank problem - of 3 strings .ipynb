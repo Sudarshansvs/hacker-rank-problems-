{
 "cells": [
  {
   "cell_type": "code",
   "execution_count": 1,
   "metadata": {},
   "outputs": [],
   "source": [
    "#sorts the input string in alphabetical order\n",
    "def sortString(str):\n",
    "    return ''.join(sorted(str))"
   ]
  },
  {
   "cell_type": "code",
   "execution_count": 2,
   "metadata": {},
   "outputs": [],
   "source": [
    "#calculating the numbe rof diffenrt alphabets in the format of \n",
    "# temperature into 1a3e1m1p2r2t1u\n",
    "def encode(message):\n",
    "    stri=\"\"\n",
    "    count=1\n",
    "    for i in range(len(message)-1):\n",
    "        if message[i]==message[i+1]:\n",
    "            count=count+1\n",
    "            i=i+1\n",
    "        \n",
    "        else:\n",
    "            stri=stri+str(count)+message[i]\n",
    "            i=i+1\n",
    "            count=1\n",
    "    stri=stri+str(count)+message[i]\n",
    "    return stri\n"
   ]
  },
  {
   "cell_type": "code",
   "execution_count": 3,
   "metadata": {},
   "outputs": [],
   "source": [
    "#converts the result of encode into dictionary \n",
    "# like: {'a':1,'e':3} .. etc \n",
    "def result_dic(x):\n",
    "    x=list(x)\n",
    "    d={}\n",
    "    for i in range(0,len(x),2):\n",
    "        d[x[i+1]]=x[i]\n",
    "    return d"
   ]
  },
  {
   "cell_type": "code",
   "execution_count": 4,
   "metadata": {},
   "outputs": [],
   "source": [
    "# comapring the resulting 2 dictionaries of str 1and 2  with str 3\n",
    "def compare_dict(x,y):\n",
    "    for i,k in x.items():\n",
    "        count=0\n",
    "        for j,h in y.items():\n",
    "            if i == j and count<1:\n",
    "                count+=1\n",
    "                if k<=h:\n",
    "                    pass\n",
    "                else:\n",
    "                    break       \n",
    "            else:\n",
    "                continue \n",
    "        if count==1:\n",
    "            continue\n",
    "        else:\n",
    "            return False\n",
    "    return True\n"
   ]
  },
  {
   "cell_type": "code",
   "execution_count": 5,
   "metadata": {},
   "outputs": [],
   "source": [
    "# source index part \n",
    "# converting each string into  a dictionary seperately\n",
    "def source_code(x):\n",
    "    x=list(x)\n",
    "    d={}\n",
    "    for i in range(0,len(x)):\n",
    "        d[x[i]]=i\n",
    "        #d[x[i+1]]=x[i]\n",
    "    return d"
   ]
  },
  {
   "cell_type": "code",
   "execution_count": 6,
   "metadata": {},
   "outputs": [],
   "source": [
    "#Mergin dict of strings 1 and 2 \n",
    "# and saving it in 2 \n",
    "def Merge(dict1, dict2):\n",
    "    return(dict2.update(dict1))"
   ]
  },
  {
   "cell_type": "code",
   "execution_count": 7,
   "metadata": {},
   "outputs": [],
   "source": [
    "# comparing the merged dictionay and 3rd string dictionay \n",
    "# and creating a new dictionay values for the 3rd string\n",
    "def source(v,b):\n",
    "    new_dict={}\n",
    "    for i,k in v.items():\n",
    "        for j,h in b.items():\n",
    "            if i==j:\n",
    "                new_dict[i]=h\n",
    "                \n",
    "    return new_dict\n",
    "\n",
    "    "
   ]
  },
  {
   "cell_type": "code",
   "execution_count": 8,
   "metadata": {},
   "outputs": [],
   "source": [
    "#converting the dict values  to list to sort to the increasing order \n",
    "def source_(x):\n",
    "    v=list(x.values())\n",
    "    count=0\n",
    "    for i in range(len(v)-1):\n",
    "        if v[i]<=v[i+1] and count==0:\n",
    "            continue\n",
    "        else:\n",
    "            return False\n",
    "    return True"
   ]
  },
  {
   "cell_type": "code",
   "execution_count": 9,
   "metadata": {},
   "outputs": [],
   "source": [
    "#printing result for the frequency and the source index \n",
    "def result(x,y):\n",
    "    if x==True and y==True:\n",
    "        return 1\n",
    "    else:\n",
    "        return 0"
   ]
  },
  {
   "cell_type": "code",
   "execution_count": 10,
   "metadata": {},
   "outputs": [],
   "source": [
    "def three_strings(str1,str2,str3):\n",
    "    \n",
    "    a=sortString(str3) # sorting str3\n",
    "    x=str(encode(a)) # encoding the sorted str3 and converting in to string\n",
    "    #print(x)\n",
    "    dict1=result_dic(x) #converting the string x into a dictionary with key as aplhabet and value as number of repts\n",
    "    #print(dict1)\n",
    "    b=sortString(str1+str2)# adding the sorting str1 and str2, same as above \n",
    "    y=str(encode(b))\n",
    "    #print(y)\n",
    "    dict2=result_dic(y)\n",
    "    #print(dict2)\n",
    "    #print(compare_dict(dict1,dict2))# comparing the dictonaries of str3 and (st1+st2)\n",
    "    \n",
    "    #2nd point source index\n",
    "    #print(str3)\n",
    "    a=source_code(str1)# converting into dictinary with key as alphabet and values as index values \n",
    "    b=source_code(str2)\n",
    "    c=source_code(str3)\n",
    "    Merge(a,b) # merging str1 and str2 in dictionry format and saving in b variable \n",
    "    #print(b)\n",
    "    final=source(c,b) # creating a new dictonry for the str3 with teh source index values \n",
    "    #print(source_(final))\n",
    "    print(result(compare_dict(dict1,dict2),source_(final)))# comparing the results of pint 1(frequency) and point 2 (source)"
   ]
  },
  {
   "cell_type": "code",
   "execution_count": 12,
   "metadata": {},
   "outputs": [
    {
     "name": "stdout",
     "output_type": "stream",
     "text": [
      "rkpesh#@ mdn rmde#@\n",
      "1\n",
      "**********\n",
      "rkpesh#@ mdn rdme#@\n",
      "0\n",
      "**********\n",
      "example Template temperature\n",
      "0\n",
      "**********\n",
      "rkpesh mdn rxdy\n",
      "0\n",
      "**********\n"
     ]
    }
   ],
   "source": [
    "\n",
    "print(\"rkpesh#@\",\"mdn\",\"rmde#@\")\n",
    "three_strings(\"rkpesh#@\",\"mdn\",\"rmde#@\")\n",
    "print(\"**********\")\n",
    "\n",
    "print(\"rkpesh#@\",\"mdn\",\"rdme#@\")\n",
    "three_strings(\"rkpesh#@\",\"mdn\",\"rdme#@\")\n",
    "print(\"**********\")\n",
    "\n",
    "print(\"example\",\"Template\",\"temperature\")\n",
    "three_strings(\"example\",\"Template\",\"temperature\")\n",
    "print(\"**********\")\n",
    "\n",
    "print(\"rkpesh\",\"mdn\",\"rxdy\")\n",
    "three_strings(\"rkpesh\",\"mdn\",\"rxdy\")\n",
    "print(\"**********\")"
   ]
  },
  {
   "cell_type": "code",
   "execution_count": null,
   "metadata": {},
   "outputs": [],
   "source": []
  }
 ],
 "metadata": {
  "kernelspec": {
   "display_name": "Python 3",
   "language": "python",
   "name": "python3"
  },
  "language_info": {
   "codemirror_mode": {
    "name": "ipython",
    "version": 3
   },
   "file_extension": ".py",
   "mimetype": "text/x-python",
   "name": "python",
   "nbconvert_exporter": "python",
   "pygments_lexer": "ipython3",
   "version": "3.6.5"
  }
 },
 "nbformat": 4,
 "nbformat_minor": 2
}
